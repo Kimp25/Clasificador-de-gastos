{
  "nbformat": 4,
  "nbformat_minor": 0,
  "metadata": {
    "colab": {
      "provenance": [],
      "gpuType": "T4",
      "authorship_tag": "ABX9TyMmMMxByJgmCHr/92MzMAwj",
      "include_colab_link": true
    },
    "kernelspec": {
      "name": "python3",
      "display_name": "Python 3"
    },
    "language_info": {
      "name": "python"
    },
    "accelerator": "GPU"
  },
  "cells": [
    {
      "cell_type": "markdown",
      "metadata": {
        "id": "view-in-github",
        "colab_type": "text"
      },
      "source": [
        "<a href=\"https://colab.research.google.com/github/Kimp25/Clasificador-de-gastos/blob/main/Prueba.ipynb\" target=\"_parent\"><img src=\"https://colab.research.google.com/assets/colab-badge.svg\" alt=\"Open In Colab\"/></a>"
      ]
    },
    {
      "cell_type": "markdown",
      "source": [],
      "metadata": {
        "id": "fZo1CP_HuTFt"
      }
    },
    {
      "cell_type": "code",
      "execution_count": 31,
      "metadata": {
        "id": "qEfGAk_UdcHe"
      },
      "outputs": [],
      "source": [
        "import pickle\n",
        "import pandas as pd\n",
        "import matplotlib.pyplot as plt\n",
        "from collections import Counter\n",
        "import os\n",
        "from google.colab import files"
      ]
    },
    {
      "cell_type": "code",
      "source": [
        "\n",
        "# Clase para predecir categorías de gastos\n",
        "class ExpensePredictor:\n",
        "    def __init__(self, model_path, count_vect_path, tfidf_path):\n",
        "        self.clf = self.load_pickle(model_path)\n",
        "        self.count_vect = self.load_pickle(count_vect_path)\n",
        "        self.tfidf_transformer = self.load_pickle(tfidf_path)\n",
        "\n",
        "    @staticmethod\n",
        "    def load_pickle(filepath):\n",
        "        \"\"\"Carga un archivo pickle.\"\"\"\n",
        "        with open(file\n",
        "                  path, 'rb') as f:\n",
        "            return pickle.load(f)\n",
        "\n",
        "    def predecir_categoria(self, descripcion):\n",
        "        \"\"\"Predice la categoría de un gasto dado su descripción.\"\"\"\n",
        "        X_new_counts = self.count_vect.transform([descripcion])\n",
        "        X_new_tfidf = self.tfidf_transformer.transform(X_new_counts)\n",
        "        return self.clf.predict(X_new_tfidf)[0]\n",
        "\n",
        "    def procesar_csv(self, df, columna_descripcion):\n",
        "        \"\"\"Añade predicciones al DataFrame.\"\"\"\n",
        "        df['categoria_predicha'] = df[columna_descripcion].apply(self.predecir_categoria)\n",
        "        return df\n",
        "\n",
        "    @staticmethod\n",
        "    def generar_grafico(df):\n",
        "        \"\"\"Crea un gráfico circular basado en las veces que aparece una categoría\"\"\"\n",
        "        conteo_categorias = Counter(df['categoria_predicha'])\n",
        "        plt.figure(figsize=(10, 8))\n",
        "        plt.pie(conteo_categorias.values(),\n",
        "                labels=conteo_categorias.keys(),\n",
        "                autopct='%1.1f%%',\n",
        "                startangle=90)\n",
        "        plt.title(\"Distribución de Categorías de Gastos\")\n",
        "        plt.legend(conteo_categorias.keys(), title=\"Categorías\", loc=\"upper right\", bbox_to_anchor=(1, 0, 0.5, 1))\n",
        "        plt.tight_layout()\n",
        "        plt.show()\n",
        "\n",
        "def main():\n",
        "    # Configuración de rutas\n",
        "    model_path = '/content/modelo_gastos (3).pkl'\n",
        "    count_vect_path = '/content/count_vect (3).pkl'\n",
        "    tfidf_path = '/content/tfidf_transformer (3).pkl'\n",
        "\n",
        "    predictor = ExpensePredictor(model_path, count_vect_path, tfidf_path)\n",
        "\n",
        "    while True:\n",
        "        print(\"\\n=== CLASIFICADOR DE GASTOS ===\")\n",
        "        print(\"1. Clasificar gasto individual\")\n",
        "        print(\"2. Clasificar desde archivo CSV\")\n",
        "        print(\"3. Salir\")\n",
        "\n",
        "        opcion = input(\"Selecciona una opción (1-3): \")\n",
        "\n",
        "        if opcion == \"1\":\n",
        "            while True:\n",
        "                descripcion = input(\"\\nDescripción del gasto (o 'salir' para terminar): \").strip()\n",
        "                if descripcion.lower() == 'salir':\n",
        "                    break\n",
        "                categoria = predictor.predecir_categoria(descripcion)\n",
        "                print(f\"Categoría predicha: {categoria}\")\n",
        "\n",
        "        elif opcion == \"2\":\n",
        "            print(\"Sube tu archivo CSV ...\")\n",
        "            uploaded = files.upload()\n",
        "            filename = next(iter(uploaded))\n",
        "            df = pd.read_csv(filename, encoding='latin-1')\n",
        "\n",
        "            # Procesar y clasificar\n",
        "            columna_descripcion = df.columns[0]  # Usar la primera columna del archivo CSV\n",
        "            resultados = predictor.procesar_csv(df, columna_descripcion)\n",
        "\n",
        "            # Guarda y descarga los resultados\n",
        "            resultados.to_csv('resultados_clasificacion.csv', index=False)\n",
        "            files.download('resultados_clasificacion.csv')\n",
        "            print(\"\\nArchivo descargado exitosamente.\")\n",
        "\n",
        "            # Genera el gráfico\n",
        "            predictor.generar_grafico(resultados)\n",
        "\n",
        "        elif opcion == \"3\":\n",
        "            print(\"¡Hasta luego!\")\n",
        "            break\n",
        "        else:\n",
        "            print(\"Opción no válida. Por favor, selecciona 1, 2 o 3.\")\n",
        "\n",
        "if __name__ == \"__main__\":\n",
        "    main()\n"
      ],
      "metadata": {
        "colab": {
          "base_uri": "https://localhost:8080/"
        },
        "id": "EJbtVY8Tdsrx",
        "outputId": "e30d21f9-ffe8-4b5c-95df-f9f2a116ba55"
      },
      "execution_count": 32,
      "outputs": [
        {
          "output_type": "stream",
          "name": "stdout",
          "text": [
            "\n",
            "=== CLASIFICADOR DE GASTOS ===\n",
            "1. Clasificar gasto individual\n",
            "2. Clasificar desde archivo CSV\n",
            "3. Salir\n",
            "Selecciona una opción (1-3): 1\n",
            "\n",
            "Descripción del gasto (o 'salir' para terminar): Farmacia\n",
            "Categoría predicha: Restaurante\n",
            "\n",
            "Descripción del gasto (o 'salir' para terminar): Pizza\n",
            "Categoría predicha: Restaurante\n",
            "\n",
            "Descripción del gasto (o 'salir' para terminar): Integral\n",
            "Categoría predicha: Salud\n",
            "\n",
            "Descripción del gasto (o 'salir' para terminar): Internet\n",
            "Categoría predicha: Entretenimiento\n",
            "\n",
            "Descripción del gasto (o 'salir' para terminar): salir\n",
            "\n",
            "=== CLASIFICADOR DE GASTOS ===\n",
            "1. Clasificar gasto individual\n",
            "2. Clasificar desde archivo CSV\n",
            "3. Salir\n",
            "Selecciona una opción (1-3): 3\n",
            "¡Hasta luego!\n"
          ]
        }
      ]
    }
  ]
}